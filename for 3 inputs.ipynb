{
 "cells": [
  {
   "cell_type": "code",
   "execution_count": 9,
   "metadata": {},
   "outputs": [],
   "source": [
    "import numpy as np\n",
    "import matplotlib.pyplot as plt\n",
    "import tensorflow as TF\n"
   ]
  },
  {
   "cell_type": "code",
   "execution_count": 2,
   "metadata": {},
   "outputs": [],
   "source": [
    "observations =1001\n",
    "\n",
    "ws=np.random.uniform(low=-10,high=10,size=(observations,1))\n",
    "xs=np.random.uniform(low=-10,high=10,size=(observations,1))\n",
    "zs=np.random.uniform(-10,10,(observations,1))\n",
    "\n",
    "generated_inputs= np.column_stack((ws,xs,zs))\n",
    "\n",
    "noise=np.random.uniform(-1,1,(observations,1))\n",
    "\n",
    "generated_targets=37.6529+0.0965*ws+0.0860*xs+0.1872*zs+noise\n",
    "\n",
    "np.savez('TF_intro',inputs=generated_inputs,targets=generated_targets)"
   ]
  },
  {
   "cell_type": "code",
   "execution_count": 3,
   "metadata": {},
   "outputs": [],
   "source": [
    "Traning_data=np.load('TF_intro.npz')"
   ]
  },
  {
   "cell_type": "code",
   "execution_count": 4,
   "metadata": {},
   "outputs": [
    {
     "name": "stdout",
     "output_type": "stream",
     "text": [
      "WARNING:tensorflow:From C:\\Users\\HP\\anaconda3\\lib\\site-packages\\tensorflow\\python\\ops\\init_ops.py:1251: calling VarianceScaling.__init__ (from tensorflow.python.ops.init_ops) with dtype is deprecated and will be removed in a future version.\n",
      "Instructions for updating:\n",
      "Call initializer instance with the dtype argument instead of passing it to the constructor\n",
      "Epoch 1/100\n",
      "1001/1001 - 0s - loss: 872.1355\n",
      "Epoch 2/100\n",
      "1001/1001 - 0s - loss: 234.1571\n",
      "Epoch 3/100\n",
      "1001/1001 - 0s - loss: 66.1993\n",
      "Epoch 4/100\n",
      "1001/1001 - 0s - loss: 18.3684\n",
      "Epoch 5/100\n",
      "1001/1001 - 0s - loss: 5.2542\n",
      "Epoch 6/100\n",
      "1001/1001 - 0s - loss: 1.7360\n",
      "Epoch 7/100\n",
      "1001/1001 - 0s - loss: 0.7224\n",
      "Epoch 8/100\n",
      "1001/1001 - 0s - loss: 0.4734\n",
      "Epoch 9/100\n",
      "1001/1001 - 0s - loss: 0.3872\n",
      "Epoch 10/100\n",
      "1001/1001 - 0s - loss: 0.3694\n",
      "Epoch 11/100\n",
      "1001/1001 - 0s - loss: 0.3562\n",
      "Epoch 12/100\n",
      "1001/1001 - 0s - loss: 0.3610\n",
      "Epoch 13/100\n",
      "1001/1001 - 0s - loss: 0.3652\n",
      "Epoch 14/100\n",
      "1001/1001 - 0s - loss: 0.3551\n",
      "Epoch 15/100\n",
      "1001/1001 - 0s - loss: 0.3585\n",
      "Epoch 16/100\n",
      "1001/1001 - 0s - loss: 0.3682\n",
      "Epoch 17/100\n",
      "1001/1001 - 0s - loss: 0.3570\n",
      "Epoch 18/100\n",
      "1001/1001 - 0s - loss: 0.3578\n",
      "Epoch 19/100\n",
      "1001/1001 - 0s - loss: 0.3594\n",
      "Epoch 20/100\n",
      "1001/1001 - 0s - loss: 0.3645\n",
      "Epoch 21/100\n",
      "1001/1001 - 0s - loss: 0.3546\n",
      "Epoch 22/100\n",
      "1001/1001 - 0s - loss: 0.3585\n",
      "Epoch 23/100\n",
      "1001/1001 - 0s - loss: 0.3584\n",
      "Epoch 24/100\n",
      "1001/1001 - 0s - loss: 0.3527\n",
      "Epoch 25/100\n",
      "1001/1001 - 0s - loss: 0.3560\n",
      "Epoch 26/100\n",
      "1001/1001 - 0s - loss: 0.3589\n",
      "Epoch 27/100\n",
      "1001/1001 - 0s - loss: 0.3494\n",
      "Epoch 28/100\n",
      "1001/1001 - 0s - loss: 0.3592\n",
      "Epoch 29/100\n",
      "1001/1001 - 0s - loss: 0.3648\n",
      "Epoch 30/100\n",
      "1001/1001 - 0s - loss: 0.3630\n",
      "Epoch 31/100\n",
      "1001/1001 - 0s - loss: 0.3640\n",
      "Epoch 32/100\n",
      "1001/1001 - 0s - loss: 0.3607\n",
      "Epoch 33/100\n",
      "1001/1001 - 0s - loss: 0.3502\n",
      "Epoch 34/100\n",
      "1001/1001 - 0s - loss: 0.3630\n",
      "Epoch 35/100\n",
      "1001/1001 - 0s - loss: 0.3552\n",
      "Epoch 36/100\n",
      "1001/1001 - 0s - loss: 0.3562\n",
      "Epoch 37/100\n",
      "1001/1001 - 0s - loss: 0.3615\n",
      "Epoch 38/100\n",
      "1001/1001 - 0s - loss: 0.3558\n",
      "Epoch 39/100\n",
      "1001/1001 - 0s - loss: 0.3576\n",
      "Epoch 40/100\n",
      "1001/1001 - 0s - loss: 0.3597\n",
      "Epoch 41/100\n",
      "1001/1001 - 0s - loss: 0.3566\n",
      "Epoch 42/100\n",
      "1001/1001 - 0s - loss: 0.3542\n",
      "Epoch 43/100\n",
      "1001/1001 - 0s - loss: 0.3557\n",
      "Epoch 44/100\n",
      "1001/1001 - 0s - loss: 0.3579\n",
      "Epoch 45/100\n",
      "1001/1001 - 0s - loss: 0.3600\n",
      "Epoch 46/100\n",
      "1001/1001 - 0s - loss: 0.3652\n",
      "Epoch 47/100\n",
      "1001/1001 - 0s - loss: 0.3649\n",
      "Epoch 48/100\n",
      "1001/1001 - 0s - loss: 0.3621\n",
      "Epoch 49/100\n",
      "1001/1001 - 0s - loss: 0.3595\n",
      "Epoch 50/100\n",
      "1001/1001 - 0s - loss: 0.3560\n",
      "Epoch 51/100\n",
      "1001/1001 - 0s - loss: 0.3608\n",
      "Epoch 52/100\n",
      "1001/1001 - 0s - loss: 0.3596\n",
      "Epoch 53/100\n",
      "1001/1001 - 0s - loss: 0.3572\n",
      "Epoch 54/100\n",
      "1001/1001 - 0s - loss: 0.3504\n",
      "Epoch 55/100\n",
      "1001/1001 - 0s - loss: 0.3666\n",
      "Epoch 56/100\n",
      "1001/1001 - 0s - loss: 0.3612\n",
      "Epoch 57/100\n",
      "1001/1001 - 0s - loss: 0.3551\n",
      "Epoch 58/100\n",
      "1001/1001 - 0s - loss: 0.3657\n",
      "Epoch 59/100\n",
      "1001/1001 - 0s - loss: 0.3541\n",
      "Epoch 60/100\n",
      "1001/1001 - 0s - loss: 0.3587\n",
      "Epoch 61/100\n",
      "1001/1001 - 0s - loss: 0.3673\n",
      "Epoch 62/100\n",
      "1001/1001 - 0s - loss: 0.3509\n",
      "Epoch 63/100\n",
      "1001/1001 - 0s - loss: 0.3666\n",
      "Epoch 64/100\n",
      "1001/1001 - 0s - loss: 0.3603\n",
      "Epoch 65/100\n",
      "1001/1001 - 0s - loss: 0.3582\n",
      "Epoch 66/100\n",
      "1001/1001 - 0s - loss: 0.3609\n",
      "Epoch 67/100\n",
      "1001/1001 - 0s - loss: 0.3606\n",
      "Epoch 68/100\n",
      "1001/1001 - 0s - loss: 0.3633\n",
      "Epoch 69/100\n",
      "1001/1001 - 0s - loss: 0.3565\n",
      "Epoch 70/100\n",
      "1001/1001 - 0s - loss: 0.3638\n",
      "Epoch 71/100\n",
      "1001/1001 - 0s - loss: 0.3650\n",
      "Epoch 72/100\n",
      "1001/1001 - 0s - loss: 0.3645\n",
      "Epoch 73/100\n",
      "1001/1001 - 0s - loss: 0.3633\n",
      "Epoch 74/100\n",
      "1001/1001 - 0s - loss: 0.3690\n",
      "Epoch 75/100\n",
      "1001/1001 - 0s - loss: 0.3636\n",
      "Epoch 76/100\n",
      "1001/1001 - 0s - loss: 0.3609\n",
      "Epoch 77/100\n",
      "1001/1001 - 0s - loss: 0.3555\n",
      "Epoch 78/100\n",
      "1001/1001 - 0s - loss: 0.3583\n",
      "Epoch 79/100\n",
      "1001/1001 - 0s - loss: 0.3716\n",
      "Epoch 80/100\n",
      "1001/1001 - 0s - loss: 0.3537\n",
      "Epoch 81/100\n",
      "1001/1001 - 0s - loss: 0.3606\n",
      "Epoch 82/100\n",
      "1001/1001 - 0s - loss: 0.3565\n",
      "Epoch 83/100\n",
      "1001/1001 - 0s - loss: 0.3605\n",
      "Epoch 84/100\n",
      "1001/1001 - 0s - loss: 0.3572\n",
      "Epoch 85/100\n",
      "1001/1001 - 0s - loss: 0.3562\n",
      "Epoch 86/100\n",
      "1001/1001 - 0s - loss: 0.3596\n",
      "Epoch 87/100\n",
      "1001/1001 - 0s - loss: 0.3580\n",
      "Epoch 88/100\n",
      "1001/1001 - 0s - loss: 0.3555\n",
      "Epoch 89/100\n",
      "1001/1001 - 0s - loss: 0.3648\n",
      "Epoch 90/100\n",
      "1001/1001 - 0s - loss: 0.3539\n",
      "Epoch 91/100\n",
      "1001/1001 - 0s - loss: 0.3574\n",
      "Epoch 92/100\n",
      "1001/1001 - 0s - loss: 0.3597\n",
      "Epoch 93/100\n",
      "1001/1001 - 0s - loss: 0.3618\n",
      "Epoch 94/100\n",
      "1001/1001 - 0s - loss: 0.3649\n",
      "Epoch 95/100\n",
      "1001/1001 - 0s - loss: 0.3615\n",
      "Epoch 96/100\n",
      "1001/1001 - 0s - loss: 0.3600\n",
      "Epoch 97/100\n",
      "1001/1001 - 0s - loss: 0.3513\n",
      "Epoch 98/100\n",
      "1001/1001 - 0s - loss: 0.3718\n",
      "Epoch 99/100\n",
      "1001/1001 - 0s - loss: 0.3538\n",
      "Epoch 100/100\n",
      "1001/1001 - 0s - loss: 0.3633\n"
     ]
    },
    {
     "data": {
      "text/plain": [
       "<tensorflow.python.keras.callbacks.History at 0x2b11e9b3f88>"
      ]
     },
     "execution_count": 4,
     "metadata": {},
     "output_type": "execute_result"
    }
   ],
   "source": [
    "inputs_size=3\n",
    "outputs_size=1\n",
    "\n",
    "model=TF.keras.Sequential([\n",
    "    TF.keras.layers.Dense(outputs_size)\n",
    "    ])\n",
    "\n",
    "model.compile(optimizer='SGD',loss='mean_squared_error')\n",
    "\n",
    "model.fit(Traning_data['inputs'],Traning_data['targets'],epochs=100,verbose=2)\n"
   ]
  },
  {
   "cell_type": "code",
   "execution_count": 5,
   "metadata": {},
   "outputs": [
    {
     "data": {
      "text/plain": [
       "[array([[0.10249966],\n",
       "        [0.0248181 ],\n",
       "        [0.17890288]], dtype=float32),\n",
       " array([37.683968], dtype=float32)]"
      ]
     },
     "execution_count": 5,
     "metadata": {},
     "output_type": "execute_result"
    }
   ],
   "source": [
    "model.layers[0].get_weights()"
   ]
  },
  {
   "cell_type": "code",
   "execution_count": 6,
   "metadata": {},
   "outputs": [
    {
     "data": {
      "text/plain": [
       "array([[36.5],\n",
       "       [37.2],\n",
       "       [37.4],\n",
       "       ...,\n",
       "       [36.9],\n",
       "       [37.7],\n",
       "       [35.9]], dtype=float32)"
      ]
     },
     "execution_count": 6,
     "metadata": {},
     "output_type": "execute_result"
    }
   ],
   "source": [
    "model.predict_on_batch(Traning_data['inputs']).round(1)"
   ]
  },
  {
   "cell_type": "code",
   "execution_count": 7,
   "metadata": {},
   "outputs": [
    {
     "data": {
      "text/plain": [
       "array([[37.1],\n",
       "       [36.1],\n",
       "       [38.5],\n",
       "       ...,\n",
       "       [36. ],\n",
       "       [37. ],\n",
       "       [36.3]])"
      ]
     },
     "execution_count": 7,
     "metadata": {},
     "output_type": "execute_result"
    }
   ],
   "source": [
    "Traning_data['targets'].round(1)"
   ]
  },
  {
   "cell_type": "code",
   "execution_count": 8,
   "metadata": {},
   "outputs": [
    {
     "data": {
      "image/png": "[encoded data removed]",
      "text/plain": [
       "<Figure size 432x288 with 1 Axes>"
      ]
     },
     "metadata": {
      "needs_background": "light"
     },
     "output_type": "display_data"
    }
   ],
   "source": [
    "plt.plot(np.squeeze(model.predict_on_batch(Traning_data['inputs'])),np.squeeze(Traning_data['targets']))\n",
    "plt.xlabel('outputs')\n",
    "plt.ylabel('targets')\n",
    "plt.show()"
   ]
  },
  {
   "cell_type": "code",
   "execution_count": null,
   "metadata": {},
   "outputs": [],
   "source": []
  }
 ],
 "metadata": {
  "kernelspec": {
   "display_name": "Python 3",
   "language": "python",
   "name": "python3"
  },
  "language_info": {
   "codemirror_mode": {
    "name": "ipython",
    "version": 3
   },
   "file_extension": ".py",
   "mimetype": "text/x-python",
   "name": "python",
   "nbconvert_exporter": "python",
   "pygments_lexer": "ipython3",
   "version": "3.7.6"
  }
 },
 "nbformat": 4,
 "nbformat_minor": 4
}
